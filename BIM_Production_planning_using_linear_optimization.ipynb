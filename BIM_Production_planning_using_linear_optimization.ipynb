{
  "nbformat": 4,
  "nbformat_minor": 0,
  "metadata": {
    "colab": {
      "provenance": [],
      "toc_visible": true,
      "authorship_tag": "ABX9TyMGaIXQWZ7azbZTKht7aUob",
      "include_colab_link": true
    },
    "kernelspec": {
      "name": "python3",
      "display_name": "Python 3"
    },
    "language_info": {
      "name": "python"
    }
  },
  "cells": [
    {
      "cell_type": "markdown",
      "metadata": {
        "id": "view-in-github",
        "colab_type": "text"
      },
      "source": [
        "<a href=\"https://colab.research.google.com/github/Dare-Badejo-001/Optimization-Problems/blob/main/BIM_Production_planning_using_linear_optimization.ipynb\" target=\"_parent\"><img src=\"https://colab.research.google.com/assets/colab-badge.svg\" alt=\"Open In Colab\"/></a>"
      ]
    },
    {
      "cell_type": "code",
      "source": [
        "import sys\n",
        "\n",
        "if 'google.colab' in sys.modules:\n",
        "    %pip install pyomo >/dev/null 2>/dev/null\n",
        "    %pip install highspy >/dev/null 2>/dev/null\n",
        "\n",
        "solver = 'appsi_highs'\n",
        "\n",
        "import pyomo.environ as pyo\n",
        "SOLVER = pyo.SolverFactory(solver)\n",
        "\n",
        "assert SOLVER.available(), f\"Solver {solver} is not available.\""
      ],
      "metadata": {
        "id": "_2g5-m5fcF-z"
      },
      "execution_count": 10,
      "outputs": []
    },
    {
      "cell_type": "code",
      "source": [
        "model = pyo.ConcreteModel(\"BIM production planning\")\n",
        "\n",
        "# Decision variables and their domains\n",
        "model.x1 = pyo.Var(domain=pyo.NonNegativeReals)\n",
        "model.x2 = pyo.Var(domain=pyo.NonNegativeReals)\n",
        "\n",
        "# Objective function\n",
        "model.profit = pyo.Objective(expr=12 * model.x1 + 9 * model.x2, sense=pyo.maximize)\n",
        "\n",
        "# Constraints\n",
        "model.silicon = pyo.Constraint(expr=model.x1 <= 1000)\n",
        "model.germanium = pyo.Constraint(expr=model.x2 <= 1500)\n",
        "model.plastic = pyo.Constraint(expr=model.x1 + model.x2 <= 1750)\n",
        "model.copper = pyo.Constraint(expr=4 * model.x1 + 2 * model.x2 <= 4800)\n",
        "\n",
        "# Solve and print solution\n",
        "SOLVER.solve(model)\n",
        "print(f\"x = ({model.x1.value:.1f}, {model.x2.value:.1f})\")\n",
        "print(f\"optimal value = {pyo.value(model.profit):.1f}\")"
      ],
      "metadata": {
        "colab": {
          "base_uri": "https://localhost:8080/"
        },
        "id": "Y3keRYN-Zv9B",
        "outputId": "ab463618-48cb-487f-b1ce-1eeca2cf5a7e"
      },
      "execution_count": 7,
      "outputs": [
        {
          "output_type": "stream",
          "name": "stdout",
          "text": [
            "x = (650.0, 1100.0)\n",
            "optimal value = 17700.0\n"
          ]
        }
      ]
    },
    {
      "cell_type": "code",
      "source": [
        "import numpy as np\n",
        "\n",
        "model = pyo.ConcreteModel(\"BIM production planning in matrix form\")\n",
        "\n",
        "# Define the number of variables and constraints\n",
        "n_vars = 2\n",
        "n_constraints = 4\n",
        "\n",
        "# Decision variables and their domain\n",
        "model.x = pyo.Var(range(n_vars), domain=pyo.NonNegativeReals)\n",
        "\n",
        "# Define the vectors and matrices\n",
        "c = np.array([-12, -9])\n",
        "A = np.array([[-1, 0], [0, -1], [-1, -1], [-4, -2]])\n",
        "b = np.array([-1000, -1500, -1750, -4800])\n",
        "\n",
        "# Objective function\n",
        "model.profit = pyo.Objective(\n",
        "    expr=sum(c[i] * model.x[i] for i in range(n_vars)), sense=pyo.minimize\n",
        ")\n",
        "\n",
        "# Constraints\n",
        "model.constraints = pyo.ConstraintList()\n",
        "for i in range(n_constraints):\n",
        "    model.constraints.add(expr=sum(A[i, j] * model.x[j] for j in range(n_vars)) >= b[i])\n",
        "\n",
        "# Solve and print solution\n",
        "SOLVER.solve(model)\n",
        "optimal_x = [pyo.value(model.x[i]) for i in range(n_vars)]\n",
        "print(f\"x = {tuple(np.round(optimal_x, 1))}\")\n",
        "print(f\"optimal value = {-pyo.value(model.profit):.1f}\")"
      ],
      "metadata": {
        "colab": {
          "base_uri": "https://localhost:8080/"
        },
        "id": "kwsMikjNZxQ3",
        "outputId": "388c76d3-8a65-4f0c-a4a1-762c5841fef3"
      },
      "execution_count": 8,
      "outputs": [
        {
          "output_type": "stream",
          "name": "stdout",
          "text": [
            "x = (650.0, 1100.0)\n",
            "optimal value = 17700.0\n"
          ]
        }
      ]
    },
    {
      "cell_type": "code",
      "source": [
        "model = pyo.ConcreteModel(\n",
        "    \"BIM production planning in matrix form using decorators and index sets\"\n",
        ")\n",
        "\n",
        "# Define the number of variables and constraints and two corresponding index sets\n",
        "n_vars = 2\n",
        "n_constraints = 4\n",
        "model.I = pyo.Set(initialize=range(n_vars), doc=\"Set of variables\")\n",
        "model.J = pyo.Set(initialize=range(n_constraints), doc=\"Set of constraints\")\n",
        "\n",
        "# Decision variables and their domain (using the index set I)\n",
        "model.x = pyo.Var(model.I, domain=pyo.NonNegativeReals)\n",
        "\n",
        "# Define the vectors and matrices\n",
        "c = np.array([-12, -9])\n",
        "A = np.array([[-1, 0], [0, -1], [-1, -1], [-4, -2]])\n",
        "b = np.array([-1000, -1500, -1750, -4800])\n",
        "\n",
        "\n",
        "# Objective function using decorator\n",
        "@model.Objective(sense=pyo.minimize)\n",
        "def profit(m):\n",
        "    return sum(c[i] * m.x[i] for i in model.I)\n",
        "\n",
        "\n",
        "# Constraints using decorators and the index set J\n",
        "@model.Constraint(model.J)\n",
        "def constraints(m, j):\n",
        "    return sum(A[j, i] * m.x[i] for i in model.I) >= b[j]\n",
        "\n",
        "\n",
        "# Solve and print solution\n",
        "SOLVER.solve(model)\n",
        "optimal_x = [pyo.value(model.x[i]) for i in range(n_vars)]\n",
        "print(f\"x = {tuple(np.round(optimal_x, 1))}\")\n",
        "print(f\"optimal value = {-pyo.value(model.profit):.1f}\")"
      ],
      "metadata": {
        "colab": {
          "base_uri": "https://localhost:8080/"
        },
        "id": "83fIQ7ZPaRK7",
        "outputId": "e2e7bafc-af80-4a44-de1e-c6c16dfb0d7a"
      },
      "execution_count": 9,
      "outputs": [
        {
          "output_type": "stream",
          "name": "stdout",
          "text": [
            "x = (650.0, 1100.0)\n",
            "optimal value = 17700.0\n"
          ]
        }
      ]
    }
  ]
}