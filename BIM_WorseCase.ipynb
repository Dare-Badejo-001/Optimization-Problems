{
  "nbformat": 4,
  "nbformat_minor": 0,
  "metadata": {
    "colab": {
      "provenance": [],
      "authorship_tag": "ABX9TyMcrid/u5XjDEolqpb7l1aE",
      "include_colab_link": true
    },
    "kernelspec": {
      "name": "python3",
      "display_name": "Python 3"
    },
    "language_info": {
      "name": "python"
    }
  },
  "cells": [
    {
      "cell_type": "markdown",
      "metadata": {
        "id": "view-in-github",
        "colab_type": "text"
      },
      "source": [
        "<a href=\"https://colab.research.google.com/github/Dare-Badejo-001/Optimization-Problems/blob/main/BIM_WorseCase.ipynb\" target=\"_parent\"><img src=\"https://colab.research.google.com/assets/colab-badge.svg\" alt=\"Open In Colab\"/></a>"
      ]
    },
    {
      "cell_type": "code",
      "execution_count": 1,
      "metadata": {
        "id": "BWZRUWXkpX5U"
      },
      "outputs": [],
      "source": [
        "import sys\n",
        "\n",
        "if 'google.colab' in sys.modules:\n",
        "    %pip install pyomo >/dev/null 2>/dev/null\n",
        "    %pip install highspy >/dev/null 2>/dev/null\n",
        "\n",
        "solver = 'appsi_highs'\n",
        "\n",
        "import pyomo.environ as pyo\n",
        "SOLVER = pyo.SolverFactory(solver)\n",
        "\n",
        "assert SOLVER.available(), f\"Solver {solver} is not available.\""
      ]
    },
    {
      "cell_type": "markdown",
      "source": [
        "## Minmax objective function\n",
        "\n",
        "Another class of seemingly complicated objective functions that can be easily rewritten as an LO problem are those stated as maxima over several linear functions. Given a finite set of indices $K$ and a collection of vectors $\\{c_k\\}_{k \\in K}$, the minimax problem given by\n",
        "\n",
        "$$\n",
        "\\begin{align}\n",
        "        \\min \\; \\max_{k \\in K} \\; c^\\top_{k} x\n",
        "\\end{align}\n",
        "$$\n",
        "\n",
        "General expressions like the latter can be linearized by introducing an auxiliary variable $z$ and setting\n",
        "\n",
        "$$\n",
        "\\begin{align*}\n",
        "    \\min \\quad & z  \\\\\n",
        "    \\text{s.t.} \\quad & c^\\top_{k} x \\leq z \\qquad \\forall\\, k \\in K.\n",
        "\\end{align*}\n",
        "$$\n",
        "\n",
        "This technique works because if *all* the quantities corresponding to different indices $k \\in K$ are below the auxiliary variable $z$, then we are guaranteed that also their maximum is also below $z$ and vice versa. Note that the absolute value function can be rewritten $|x_i|= \\max\\{x_i, -x_i\\}$, hence the linearization of the optimization problem involving absolute values in the objective functions is a special case of this.\n"
      ],
      "metadata": {
        "id": "RI8gQCcQpo2c"
      }
    },
    {
      "cell_type": "markdown",
      "source": [
        "## CASE Study :  BIM problem variant (Maximizing the lowest possible profit)\n",
        "\n",
        "In the same way we can minimize a maximum like above, we can also maximize the minimum. Let us consider the [BIM microchip production problem](https://colab.research.google.com/drive/1Z46Aonov9_xi4Sdcx4KOEY38NFfeqJxi), but suppose that there is uncertainty regarding the selling prices of the microchips.\n",
        "\n",
        "Instead of just the nominal prices 12$ and 9$, BIM estimates that prices may more generally take values $P=\\{ (12,9), (11,10), (8, 11) \\}$. The optimization problem for a production plan that achieves the maximum among the lowest possible profits can be formulated using the trick mentioned above and can be implemented in Pyomo as follows."
      ],
      "metadata": {
        "id": "iMXnkU8EqDM4"
      }
    },
    {
      "cell_type": "code",
      "source": [
        "def BIM_maxmin(costs):\n",
        "    m = pyo.ConcreteModel(\"BIM production planning with maxmin objective\")\n",
        "\n",
        "    m.x1 = pyo.Var(domain=pyo.NonNegativeReals)\n",
        "    m.x2 = pyo.Var(domain=pyo.NonNegativeReals)\n",
        "    m.z = pyo.Var()\n",
        "\n",
        "    m.profit = pyo.Objective(sense=pyo.maximize, expr=m.z)\n",
        "\n",
        "    m.maxmin = pyo.ConstraintList()\n",
        "    for c1, c2 in costs:\n",
        "        m.maxmin.add(expr=m.z <= c1 * m.x1 + c2 * m.x2)\n",
        "\n",
        "    m.silicon = pyo.Constraint(expr=m.x1 <= 1000)\n",
        "    m.germanium = pyo.Constraint(expr=m.x2 <= 1500)\n",
        "    m.plastic = pyo.Constraint(expr=m.x1 + m.x2 <= 1750)\n",
        "    m.copper = pyo.Constraint(expr=4 * m.x1 + 2 * m.x2 <= 4800)\n",
        "\n",
        "    return m\n",
        "\n",
        "\n",
        "m = BIM_maxmin([[12, 9], [11, 10], [8, 11]])\n",
        "SOLVER.solve(m)\n",
        "\n",
        "print(f\"x = ({pyo.value(m.x1):.1f}, {pyo.value(m.x2):.1f})\")\n",
        "print(f\"revenue = {pyo.value(m.profit):.2f}\")"
      ],
      "metadata": {
        "colab": {
          "base_uri": "https://localhost:8080/"
        },
        "id": "6dd-M7lOppZH",
        "outputId": "1ae7a5d2-dca4-4bef-ae18-463fb4a90027"
      },
      "execution_count": 2,
      "outputs": [
        {
          "output_type": "stream",
          "name": "stdout",
          "text": [
            "x = (583.3, 1166.7)\n",
            "revenue = 17500.00\n"
          ]
        }
      ]
    }
  ]
}